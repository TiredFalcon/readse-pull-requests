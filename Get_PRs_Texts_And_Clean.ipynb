{
 "cells": [
  {
   "cell_type": "code",
   "execution_count": 1,
   "metadata": {},
   "outputs": [],
   "source": [
    "# Imports\n",
    "import time\n",
    "import pandas as pd\n",
    "import numpy as np\n",
    "import scipy\n",
    "import json\n",
    "import requests\n",
    "import seaborn as sns\n",
    "import matplotlib.pyplot as plt\n",
    "# Plot settings for retina\n",
    "%matplotlib inline\n",
    "%config InlineBackend.figure_format = 'retina'"
   ]
  },
  {
   "cell_type": "code",
   "execution_count": 2,
   "metadata": {},
   "outputs": [],
   "source": [
    "# Filenames\n",
    "f_name = 'single-proj_scenario.csv'\n",
    "augmented_f_name = 'single-proj_scenario_with_text.csv'\n",
    "out_f_name = 'pr-dataset.json'"
   ]
  },
  {
   "cell_type": "code",
   "execution_count": 3,
   "metadata": {},
   "outputs": [],
   "source": [
    "# Create dataframe with PR data\n",
    "def load_pr_data() -> pd.DataFrame:\n",
    "    f_bots = 'bots.txt'\n",
    "    with open(f_name) as f:\n",
    "        raw_df = pd.read_csv(f_name)\n",
    "    with open(f_bots) as f:\n",
    "        bots = f.read().splitlines()\n",
    "    return raw_df[~raw_df['Author'].isin(bots)]"
   ]
  },
  {
   "cell_type": "code",
   "execution_count": 4,
   "metadata": {},
   "outputs": [],
   "source": [
    "raw_df = load_pr_data()"
   ]
  },
  {
   "cell_type": "code",
   "execution_count": 5,
   "metadata": {},
   "outputs": [],
   "source": [
    "# Add empty \"text\" column\n",
    "raw_df['Text'] = ''"
   ]
  },
  {
   "cell_type": "code",
   "execution_count": 6,
   "metadata": {},
   "outputs": [],
   "source": [
    "# Hanle API tokens\n",
    "\n",
    "class APIToken:\n",
    "    def __init__(self):\n",
    "        self.token_index = 0\n",
    "        self.tokens = [\n",
    "            'c8407e53938eea5e027377eb744efe67850f3e0a', # SA-2019\n",
    "            '8657769a09149655d1942a975c074f6d9441da4a', # SA-2019\n",
    "            '55866a3ccee6c1ee5e32727958687cd1ad29d55b'  # Pr_study_1\n",
    "        ]\n",
    "        \n",
    "    def next(self):\n",
    "        tok = self.tokens[self.token_index]\n",
    "        self.token_index = (self.token_index + 1) % len(self.tokens)\n",
    "        return tok"
   ]
  },
  {
   "cell_type": "code",
   "execution_count": 7,
   "metadata": {},
   "outputs": [],
   "source": [
    "# Ask GitHub api for PR text\n",
    "\n",
    "# Construct API url\n",
    "def get_api_url(repo_url: str, pr_num: int) -> str:\n",
    "    owner_repo = repo_url[len(\"https://github.com/\"):]\n",
    "    return f\"https://api.github.com/repos/{owner_repo}/pulls/{pr_num}\"\n",
    "\n",
    "# Request pr and return PR title and body\n",
    "def get_pr_text(full_url: str, tok: APIToken, retries: int) -> str:\n",
    "    QUERY = { 'access_token': tok.next() }\n",
    "    HEADERS = { 'Accept': \"application/vnd.github.v3+json\" }\n",
    "    try:\n",
    "        r = requests.get(url = full_url, params = QUERY, headers = HEADERS)\n",
    "        if (r.status_code != 200):\n",
    "            print(f\"\\tError in request: {r.text}\")\n",
    "            if ('Retry-After' in r.headers):\n",
    "                print(f\"\\tRetrying after: {r.headers['Retry-After']}\")\n",
    "                time.sleep(r.headers['Retry-After'])\n",
    "                return get_pr_text(full_url, tok, retries - 1)\n",
    "            else:\n",
    "                print(f\"\\tRate limit remaining: {r.headers['X-RateLimit-Remaining']}\")\n",
    "                return ''\n",
    "        else:\n",
    "            j = r.json()\n",
    "            return j['title'] + '\\n' + j['body']\n",
    "    except ConnectionError:\n",
    "        if (retries > 0):\n",
    "            print(f\"\\tConnectionError in request for {repo_url}. Retrying ({retries} retries left).\")\n",
    "            time.sleep(10)\n",
    "            return get_pr_text(full_url, tok, retries - 1)\n",
    "        else:\n",
    "            print(f\"\\tConnectionError in request for {repo_url}. Returning ''.\")\n",
    "            return ''\n",
    "    except:\n",
    "        print(f\"\\tUnknown error in request for {repo_url}. Returning ''.\")\n",
    "        return ''\n",
    "    \n",
    "def fetch_pr_texts(_df: pd.DataFrame) -> pd.DataFrame:\n",
    "    # Request text for all PR in df, add retrieved text to df\n",
    "    api_token = APIToken()\n",
    "    for i in range(len(raw_df)):\n",
    "        if (i > 4000):\n",
    "            break\n",
    "        row = raw_df.loc[i]\n",
    "        repo_url = row['Repo']\n",
    "        pr_num = row['PR_Number']\n",
    "        URL = get_api_url(repo_url, pr_num)\n",
    "        print(f\"{i}: Requesting {URL}\")\n",
    "        text = get_pr_text(URL, api_token, retries = 5)\n",
    "        raw_df.loc[i, 'Text'] = text\n",
    "    raw_df.to_csv(augmented_f_name, index = False)\n",
    "    return raw_df"
   ]
  },
  {
   "cell_type": "code",
   "execution_count": 8,
   "metadata": {},
   "outputs": [],
   "source": [
    "def load_local_prs_with_text() -> pd.DataFrame:\n",
    "    with open(augmented_f_name) as f:\n",
    "        _df = pd.read_csv(f)\n",
    "    return _df[~_df['Text'].isna()]"
   ]
  },
  {
   "cell_type": "code",
   "execution_count": 10,
   "metadata": {},
   "outputs": [],
   "source": [
    "# Either load locally saved file, or re-load PR tests from GitHub\n",
    "\n",
    "# df = fetch_pr_texts(raw_df)\n",
    "df = load_local_prs_with_text()"
   ]
  },
  {
   "cell_type": "code",
   "execution_count": null,
   "metadata": {},
   "outputs": [],
   "source": [
    "def add_text_len(_df: pd.DataFrame) -> pd.DataFrame:\n",
    "    return _df\\\n",
    "        .assign(TextLen=lambda d: d['Text'].str.len())"
   ]
  },
  {
   "cell_type": "code",
   "execution_count": null,
   "metadata": {},
   "outputs": [],
   "source": [
    "textlen_df = add_text_len(df)"
   ]
  },
  {
   "cell_type": "code",
   "execution_count": null,
   "metadata": {},
   "outputs": [],
   "source": [
    "textlen_df.head()"
   ]
  },
  {
   "cell_type": "code",
   "execution_count": null,
   "metadata": {},
   "outputs": [],
   "source": [
    "def textlen_distribution(_df: pd.DataFrame, title: str):\n",
    "    plt.rcParams[\"figure.figsize\"] = [16,10]\n",
    "    sns.boxplot(orient=\"h\", data=_df[['TextLen']]).set_title(title)\n",
    "    \n",
    "textlen_distribution(textlen_df, 'Distribution of raw PR text length')"
   ]
  },
  {
   "cell_type": "code",
   "execution_count": null,
   "metadata": {},
   "outputs": [],
   "source": [
    "def remove_outliers(_df: pd.DataFrame, use_z_score: bool = True) -> pd.DataFrame:\n",
    "    if use_z_score:\n",
    "        z_scores = scipy.stats.zscore(_df[['TextLen']])\n",
    "        abs_z_scores = np.abs(z_scores)\n",
    "        non_outlier = (abs_z_scores < 3).all(axis=1)\n",
    "        return _df[non_outlier]\n",
    "    else:\n",
    "        Q1 = _df['TextLen'].quantile(0.25)\n",
    "        Q3 = _df['TextLen'].quantile(0.75)\n",
    "        IQR = Q3 - Q1\n",
    "        outlier = (_df['TextLen'] < (Q1 - 1.5 * IQR)) | (_df['TextLen'] > (Q3 + 1.5 * IQR))\n",
    "        return _df[~outlier]"
   ]
  },
  {
   "cell_type": "code",
   "execution_count": null,
   "metadata": {},
   "outputs": [],
   "source": [
    "def inspect_long_text(_df: pd.DataFrame, above: int = 2000):\n",
    "    for i, t in _df[_df['TextLen'] > above].reset_index()['Text'].iteritems():\n",
    "        print('_' * 100)\n",
    "        print(t)\n",
    "    \n",
    "inspect_long_text(remove_outliers(textlen_df))"
   ]
  },
  {
   "cell_type": "code",
   "execution_count": null,
   "metadata": {},
   "outputs": [],
   "source": [
    "def remove_short_and_dirty_text(_df: pd.DataFrame) -> pd.DataFrame:\n",
    "    min_len = 50\n",
    "    dirty_text = ['Documentação', 'Motivação', ': java.lang.']\n",
    "    is_text_dirty = _df['Text'].str.contains('|'.join(dirty_text))\n",
    "    is_text_too_short = (_df['TextLen'] < min_len)\n",
    "    return _df[~is_text_dirty & ~is_text_too_short].reset_index(drop=True)"
   ]
  },
  {
   "cell_type": "code",
   "execution_count": null,
   "metadata": {},
   "outputs": [],
   "source": [
    "clean_df = remove_short_and_dirty_text(remove_outliers(textlen_df, False))"
   ]
  },
  {
   "cell_type": "code",
   "execution_count": null,
   "metadata": {},
   "outputs": [],
   "source": [
    "inspect_long_text(clean_df, above=500)"
   ]
  },
  {
   "cell_type": "code",
   "execution_count": null,
   "metadata": {},
   "outputs": [],
   "source": [
    "textlen_distribution(clean_df, 'Distribution of PR text length (outliers removed)')"
   ]
  },
  {
   "cell_type": "code",
   "execution_count": null,
   "metadata": {},
   "outputs": [],
   "source": [
    "clean_df.describe()"
   ]
  },
  {
   "cell_type": "code",
   "execution_count": null,
   "metadata": {},
   "outputs": [],
   "source": [
    "# Write as JSON file\n",
    "def write_json(_df: pd.DataFrame):\n",
    "    _df.rename(columns={\n",
    "        'Merged?' : 'IsMerged',\n",
    "        'Senti4SDAvg-General' : 'Senti4SDAvgGeneral',\n",
    "        'Senti4SDAvg-SourceCode' : 'Senti4SDAvgSourceCode',\n",
    "        'SentiSSEAvg-General' : 'SentiSSEAvgGeneral',\n",
    "        'SentiSSEAvg-SourceCode' : 'SentiSSEAvgSourceCode',\n",
    "    }).to_json(out_f_name, orient='records')\n",
    "    \n",
    "write_json(clean_df)"
   ]
  },
  {
   "cell_type": "code",
   "execution_count": null,
   "metadata": {},
   "outputs": [],
   "source": [
    "clean_df.info()"
   ]
  },
  {
   "cell_type": "code",
   "execution_count": null,
   "metadata": {},
   "outputs": [],
   "source": []
  }
 ],
 "metadata": {
  "kernelspec": {
   "display_name": "Python 3",
   "language": "python",
   "name": "python3"
  },
  "language_info": {
   "codemirror_mode": {
    "name": "ipython",
    "version": 3
   },
   "file_extension": ".py",
   "mimetype": "text/x-python",
   "name": "python",
   "nbconvert_exporter": "python",
   "pygments_lexer": "ipython3",
   "version": "3.7.6"
  }
 },
 "nbformat": 4,
 "nbformat_minor": 4
}
