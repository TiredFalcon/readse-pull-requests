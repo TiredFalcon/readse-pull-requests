{
 "cells": [
  {
   "cell_type": "markdown",
   "metadata": {},
   "source": [
    "# Analysis of readability of PR descriptions and acceptance time"
   ]
  },
  {
   "cell_type": "markdown",
   "metadata": {},
   "source": [
    "## Imports and loading data"
   ]
  },
  {
   "cell_type": "code",
   "execution_count": null,
   "metadata": {},
   "outputs": [],
   "source": [
    "# Imports\n",
    "import pandas as pd\n",
    "import numpy as np\n",
    "import scipy\n",
    "import json\n",
    "import seaborn as sns\n",
    "import matplotlib.pyplot as plt\n",
    "# Plot settings for retina\n",
    "%matplotlib inline\n",
    "%config InlineBackend.figure_format = 'retina'"
   ]
  },
  {
   "cell_type": "code",
   "execution_count": null,
   "metadata": {},
   "outputs": [],
   "source": [
    "# Create dataframe with PR data\n",
    "def load_data() -> pd.DataFrame:\n",
    "    f_name = 'raw_data.json'\n",
    "    with open(f_name) as f:\n",
    "        data = json.load(f)\n",
    "        df = pd.json_normalize(data)\n",
    "    cols = ['_id', 'text', 'textLen', 'closingTime', 'isMerged', 'FRE', 'FKG', 'DCS', 'PRDS']\n",
    "    df['textLen'] = df['text'].str.len()\n",
    "    return df.rename(columns = {\n",
    "        'readability.daleChallScore': 'DCS',\n",
    "        'readability.fleschKincaidGradeLevel': 'FKG',\n",
    "        'readability.fleschReadingEase': 'FRE',\n",
    "        'readability.pullRequestDomainScore': 'PRDS'\n",
    "    })[cols]"
   ]
  },
  {
   "cell_type": "code",
   "execution_count": null,
   "metadata": {},
   "outputs": [],
   "source": [
    "df = load_data()\n",
    "df"
   ]
  },
  {
   "cell_type": "code",
   "execution_count": null,
   "metadata": {},
   "outputs": [],
   "source": [
    "def remove_low_values(_df: pd.DataFrame) -> pd.DataFrame:\n",
    "    low_text_len = _df['textLen'] < 50\n",
    "    low_closing_time = _df['closingTime'] < 30\n",
    "    return _df[~low_text_len & ~low_closing_time].reset_index(drop=True)"
   ]
  },
  {
   "cell_type": "code",
   "execution_count": null,
   "metadata": {},
   "outputs": [],
   "source": [
    "def remove_non_merged(_df: pd.DataFrame) -> pd.DataFrame:\n",
    "    return _df[_df['isMerged']].reset_index(drop=True)"
   ]
  },
  {
   "cell_type": "code",
   "execution_count": null,
   "metadata": {},
   "outputs": [],
   "source": [
    "clean_df = remove_non_merged(remove_low_values(df))"
   ]
  },
  {
   "cell_type": "code",
   "execution_count": null,
   "metadata": {},
   "outputs": [],
   "source": [
    "clean_df.head()"
   ]
  },
  {
   "cell_type": "code",
   "execution_count": null,
   "metadata": {
    "scrolled": true
   },
   "outputs": [],
   "source": [
    "clean_df.describe()"
   ]
  },
  {
   "cell_type": "code",
   "execution_count": null,
   "metadata": {},
   "outputs": [],
   "source": [
    "def distribution_of_col(_df: pd.DataFrame, col: str, fname: str = None):\n",
    "    plt.rcParams[\"figure.figsize\"] = [16,5]\n",
    "    sns.boxplot(orient=\"h\", data=_df[col]).set_title(f\"Distribution of {col}\", fontsize=15)\n",
    "    if fname:\n",
    "        plt.savefig(f'figures/{fname}', bbox_inches='tight')\n",
    "    plt.show()"
   ]
  },
  {
   "cell_type": "code",
   "execution_count": null,
   "metadata": {},
   "outputs": [],
   "source": [
    "distribution_of_col(clean_df, 'FRE', 'fre-distribution.png')"
   ]
  },
  {
   "cell_type": "code",
   "execution_count": null,
   "metadata": {},
   "outputs": [],
   "source": [
    "distribution_of_col(clean_df, ['FKG', 'DCS', 'PRDS'], 'fkg-dcs-prds-distribution.png')"
   ]
  },
  {
   "cell_type": "code",
   "execution_count": null,
   "metadata": {},
   "outputs": [],
   "source": [
    "# Scatterplot of closingTime and textLen\n",
    "def scatterplot(_df: pd.DataFrame, col1: str, col2: str, fname: str = None):\n",
    "    plt.rcParams[\"figure.figsize\"] = [16,7]\n",
    "    fig = plt.figure() # create figure\n",
    "    rect = 0,0,1,1 # create an rectangle for the new axis\n",
    "    log_ax = fig.add_axes(rect) # create a new axis (or use an existing one)\n",
    "    log_ax.set_xscale(\"log\") # log first\n",
    "    ax = sns.scatterplot(x=col1, y=col2, data=_df, ax = log_ax)\n",
    "    ax.set_title(f'Relationship between {col1} and {col2}', fontsize=20)\n",
    "    if fname:\n",
    "        plt.savefig(f'figures/{fname}', bbox_inches='tight')\n",
    "    plt.show()"
   ]
  },
  {
   "cell_type": "code",
   "execution_count": null,
   "metadata": {},
   "outputs": [],
   "source": [
    "scatterplot(clean_df, 'closingTime', 'FRE', 'prs-closingtime-fre.png')"
   ]
  },
  {
   "cell_type": "code",
   "execution_count": null,
   "metadata": {},
   "outputs": [],
   "source": [
    "scatterplot(clean_df, 'closingTime', 'FKG', 'prs-closingtime-fkg.png')"
   ]
  },
  {
   "cell_type": "code",
   "execution_count": null,
   "metadata": {},
   "outputs": [],
   "source": [
    "scatterplot(clean_df, 'closingTime', 'DCS', 'prs-closingtime-dcs.png')"
   ]
  },
  {
   "cell_type": "code",
   "execution_count": null,
   "metadata": {},
   "outputs": [],
   "source": [
    "scatterplot(clean_df, 'closingTime', 'PRDS', 'prs-closingtime-prds.png')"
   ]
  },
  {
   "cell_type": "code",
   "execution_count": null,
   "metadata": {},
   "outputs": [],
   "source": []
  }
 ],
 "metadata": {
  "kernelspec": {
   "display_name": "Python 3",
   "language": "python",
   "name": "python3"
  },
  "language_info": {
   "codemirror_mode": {
    "name": "ipython",
    "version": 3
   },
   "file_extension": ".py",
   "mimetype": "text/x-python",
   "name": "python",
   "nbconvert_exporter": "python",
   "pygments_lexer": "ipython3",
   "version": "3.7.6"
  }
 },
 "nbformat": 4,
 "nbformat_minor": 4
}
